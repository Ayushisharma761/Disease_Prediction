{
 "cells": [
  {
   "cell_type": "code",
   "execution_count": 1,
   "id": "89ae335e",
   "metadata": {},
   "outputs": [],
   "source": [
    "# Importing libraries\n",
    "import pandas as pd\n",
    "from sklearn.model_selection import train_test_split\n",
    "from sklearn.linear_model import LogisticRegression\n",
    "from sklearn.metrics import accuracy_score\n",
    "import warnings\n",
    "warnings.filterwarnings(\"ignore\")"
   ]
  },
  {
   "cell_type": "code",
   "execution_count": 2,
   "id": "303875d8",
   "metadata": {},
   "outputs": [],
   "source": [
    "#Uploading training data into the dataframe named as df\n",
    "train_data = pd.read_csv(\"C:/Users/Ayushi Sharma/Desktop/DP/Training.csv\")\n",
    "test_data = pd.read_csv(\"C:/Users/Ayushi Sharma/Desktop/DP/Testing.csv\")"
   ]
  },
  {
   "cell_type": "code",
   "execution_count": 3,
   "id": "93ded446",
   "metadata": {},
   "outputs": [],
   "source": [
    "#drop the column which has NaN values in the dataset (Unnamed: 133)\n",
    "train_data.dropna(how=\"all\",axis=1,inplace=True)"
   ]
  },
  {
   "cell_type": "markdown",
   "id": "f29b0ab5",
   "metadata": {},
   "source": [
    "# Feature Selection: Filter Method"
   ]
  },
  {
   "cell_type": "markdown",
   "id": "fe25fec9",
   "metadata": {},
   "source": [
    "Chisquare"
   ]
  },
  {
   "cell_type": "code",
   "execution_count": 29,
   "id": "f7e4059b",
   "metadata": {
    "scrolled": true
   },
   "outputs": [
    {
     "name": "stdout",
     "output_type": "stream",
     "text": [
      "Selected Features:\n",
      "Index(['pain_behind_the_eyes', 'throat_irritation', 'redness_of_eyes',\n",
      "       'sinus_pressure', 'runny_nose', 'congestion', 'enlarged_thyroid',\n",
      "       'brittle_nails', 'swollen_extremeties', 'slurred_speech',\n",
      "       'loss_of_smell', 'increased_appetite', 'polyuria', 'rusty_sputum',\n",
      "       'receiving_blood_transfusion', 'receiving_unsterile_injections', 'coma',\n",
      "       'stomach_bleeding', 'blood_in_sputum', 'palpitations'],\n",
      "      dtype='object')\n"
     ]
    }
   ],
   "source": [
    "import numpy as np\n",
    "from sklearn.feature_selection import SelectKBest\n",
    "from sklearn.feature_selection import chi2\n",
    "\n",
    "\n",
    "\n",
    "# Separate the features (X) and target variable (y)\n",
    "X = train_data.drop(\"prognosis\", axis=1)\n",
    "y = train_data[\"prognosis\"]\n",
    "\n",
    "# Create a SelectKBest object\n",
    "selector = SelectKBest(score_func=chi2, k=20)\n",
    "\n",
    "# Fit the selector on the data\n",
    "selector.fit(X, y)\n",
    "\n",
    "# Get the selected features\n",
    "selected_features = X.columns[selector.get_support()]\n",
    "\n",
    "# Print the selected features\n",
    "print(\"Selected Features:\")\n",
    "print(selected_features)\n"
   ]
  },
  {
   "cell_type": "markdown",
   "id": "353986f1",
   "metadata": {},
   "source": [
    "The code below is performing univariate feature selection using the ANOVA F-value as the scoring function, and selecting the top 20 features based on this score."
   ]
  },
  {
   "cell_type": "code",
   "execution_count": 30,
   "id": "16a15e27",
   "metadata": {},
   "outputs": [
    {
     "name": "stdout",
     "output_type": "stream",
     "text": [
      "Selected Features:\n",
      "Index(['throat_irritation', 'redness_of_eyes', 'sinus_pressure', 'runny_nose',\n",
      "       'congestion', 'enlarged_thyroid', 'brittle_nails',\n",
      "       'swollen_extremeties', 'slurred_speech', 'loss_of_smell',\n",
      "       'abnormal_menstruation', 'increased_appetite', 'polyuria',\n",
      "       'rusty_sputum', 'receiving_blood_transfusion',\n",
      "       'receiving_unsterile_injections', 'coma', 'stomach_bleeding',\n",
      "       'blood_in_sputum', 'palpitations'],\n",
      "      dtype='object')\n"
     ]
    }
   ],
   "source": [
    "import numpy as np\n",
    "from sklearn.feature_selection import SelectKBest\n",
    "from sklearn.feature_selection import f_classif\n",
    "\n",
    "# Separate the features (X) and target variable (y)\n",
    "X = train_data.drop(\"prognosis\", axis=1)\n",
    "y = train_data[\"prognosis\"]\n",
    "\n",
    "# Create a SelectKBest object\n",
    "selector = SelectKBest(score_func=f_classif, k=20)\n",
    "\n",
    "# Fit the selector on the data\n",
    "selector.fit(X, y)\n",
    "\n",
    "# Get the selected features\n",
    "selected_features = X.columns[selector.get_support()]\n",
    "\n",
    "# Print the selected features\n",
    "print(\"Selected Features:\")\n",
    "print(selected_features)\n"
   ]
  },
  {
   "cell_type": "code",
   "execution_count": 31,
   "id": "5be25831",
   "metadata": {},
   "outputs": [],
   "source": [
    "# Split the training data into features (X) and target variable (y)\n",
    "X_train = train_data.drop('prognosis', axis=1)  # Replace 'target_column' with the actual column name\n",
    "y_train = train_data['prognosis']\n",
    "\n",
    "# Split the testing data into features (X) and target variable (y)\n",
    "X_test = test_data.drop('prognosis', axis=1)  # Replace 'target_column' with the actual column name\n",
    "y_test = test_data['prognosis']"
   ]
  },
  {
   "cell_type": "code",
   "execution_count": 32,
   "id": "d06b7a2d",
   "metadata": {},
   "outputs": [
    {
     "name": "stdout",
     "output_type": "stream",
     "text": [
      "                                         precision    recall  f1-score   support\n",
      "\n",
      "(vertigo) Paroymsal  Positional Vertigo       1.00      1.00      1.00         1\n",
      "                                   AIDS       1.00      1.00      1.00         1\n",
      "                                   Acne       1.00      1.00      1.00         1\n",
      "                    Alcoholic hepatitis       1.00      1.00      1.00         1\n",
      "                                Allergy       1.00      1.00      1.00         1\n",
      "                              Arthritis       1.00      1.00      1.00         1\n",
      "                       Bronchial Asthma       1.00      1.00      1.00         1\n",
      "                   Cervical spondylosis       1.00      1.00      1.00         1\n",
      "                            Chicken pox       1.00      1.00      1.00         1\n",
      "                    Chronic cholestasis       1.00      1.00      1.00         1\n",
      "                            Common Cold       1.00      1.00      1.00         1\n",
      "                                 Dengue       1.00      1.00      1.00         1\n",
      "                              Diabetes        1.00      1.00      1.00         1\n",
      "           Dimorphic hemmorhoids(piles)       1.00      1.00      1.00         1\n",
      "                          Drug Reaction       1.00      1.00      1.00         1\n",
      "                       Fungal infection       1.00      0.50      0.67         2\n",
      "                                   GERD       1.00      1.00      1.00         1\n",
      "                        Gastroenteritis       1.00      1.00      1.00         1\n",
      "                           Heart attack       1.00      1.00      1.00         1\n",
      "                            Hepatitis B       1.00      1.00      1.00         1\n",
      "                            Hepatitis C       1.00      1.00      1.00         1\n",
      "                            Hepatitis D       1.00      1.00      1.00         1\n",
      "                            Hepatitis E       1.00      1.00      1.00         1\n",
      "                          Hypertension        1.00      1.00      1.00         1\n",
      "                        Hyperthyroidism       1.00      1.00      1.00         1\n",
      "                           Hypoglycemia       1.00      1.00      1.00         1\n",
      "                         Hypothyroidism       1.00      1.00      1.00         1\n",
      "                               Impetigo       0.50      1.00      0.67         1\n",
      "                               Jaundice       1.00      1.00      1.00         1\n",
      "                                Malaria       1.00      1.00      1.00         1\n",
      "                               Migraine       1.00      1.00      1.00         1\n",
      "                        Osteoarthristis       1.00      1.00      1.00         1\n",
      "           Paralysis (brain hemorrhage)       1.00      1.00      1.00         1\n",
      "                    Peptic ulcer diseae       1.00      1.00      1.00         1\n",
      "                              Pneumonia       1.00      1.00      1.00         1\n",
      "                              Psoriasis       1.00      1.00      1.00         1\n",
      "                           Tuberculosis       1.00      1.00      1.00         1\n",
      "                                Typhoid       1.00      1.00      1.00         1\n",
      "                Urinary tract infection       1.00      1.00      1.00         1\n",
      "                         Varicose veins       1.00      1.00      1.00         1\n",
      "                            hepatitis A       1.00      1.00      1.00         1\n",
      "\n",
      "                               accuracy                           0.98        42\n",
      "                              macro avg       0.99      0.99      0.98        42\n",
      "                           weighted avg       0.99      0.98      0.98        42\n",
      "\n"
     ]
    }
   ],
   "source": [
    "from sklearn.ensemble import RandomForestClassifier\n",
    "from sklearn.metrics import classification_report\n",
    "# Train the Random Forest model\n",
    "rf = RandomForestClassifier(n_estimators=100, random_state=42)\n",
    "rf.fit(X_train, y_train)\n",
    "\n",
    "# Make predictions on the test set\n",
    "y_pred = rf.predict(X_test)\n",
    "\n",
    "# Generate the classification report\n",
    "report = classification_report(y_test, y_pred)\n",
    "\n",
    "# Print the classification report\n",
    "print(report)"
   ]
  },
  {
   "cell_type": "code",
   "execution_count": 34,
   "id": "2c3aaae5",
   "metadata": {},
   "outputs": [
    {
     "name": "stdout",
     "output_type": "stream",
     "text": [
      "Matthews Correlation Coefficient (MCC): 0.9761627906976744\n"
     ]
    }
   ],
   "source": [
    "from sklearn.metrics import matthews_corrcoef\n",
    "# Make predictions on the testing data\n",
    "predicted_labels = rf.predict(X_test)\n",
    "\n",
    "# Obtain the ground truth labels for the testing data\n",
    "ground_truth_labels = y_test\n",
    "\n",
    "# Calculate the Matthews correlation coefficient\n",
    "mcc = matthews_corrcoef(ground_truth_labels, predicted_labels)\n",
    "\n",
    "# Print the MCC score\n",
    "print(\"Matthews Correlation Coefficient (MCC):\", mcc)"
   ]
  },
  {
   "cell_type": "code",
   "execution_count": 33,
   "id": "785663bd",
   "metadata": {},
   "outputs": [
    {
     "name": "stdout",
     "output_type": "stream",
     "text": [
      "Accuracy: 0.9761904761904762\n"
     ]
    }
   ],
   "source": [
    "# Logistic Regression\n",
    "from sklearn.linear_model import LogisticRegression\n",
    "modellog = LogisticRegression()\n",
    "modellog.fit(X_train, y_train)\n",
    "y_pred = rf.predict(X_test)\n",
    "from sklearn.metrics import accuracy_score\n",
    "acc = accuracy_score(y_test, y_pred)\n",
    "print(\"Accuracy:\", acc)"
   ]
  },
  {
   "cell_type": "code",
   "execution_count": 22,
   "id": "dbdb780c",
   "metadata": {},
   "outputs": [
    {
     "name": "stdout",
     "output_type": "stream",
     "text": [
      "Accuracy:  1.0\n"
     ]
    }
   ],
   "source": [
    "# Support Vector Classifier (SVC) \n",
    "from sklearn.svm import SVC\n",
    "modelsvc = SVC()\n",
    "modelsvc.fit(X_train, y_train)\n",
    "y_pred = modelsvc.predict(X_test)\n",
    "from sklearn.metrics import accuracy_score \n",
    "accuracy = accuracy_score(y_test, y_pred)\n",
    "print(\"Accuracy: \", accuracy)"
   ]
  },
  {
   "cell_type": "markdown",
   "id": "b789ad70",
   "metadata": {},
   "source": [
    "# Wrapper Method"
   ]
  },
  {
   "cell_type": "markdown",
   "id": "a0448929",
   "metadata": {},
   "source": [
    "Forward selection"
   ]
  },
  {
   "cell_type": "code",
   "execution_count": 14,
   "id": "fbe55eb7",
   "metadata": {},
   "outputs": [
    {
     "name": "stdout",
     "output_type": "stream",
     "text": [
      "Selected Features:\n",
      "Index(['chills', 'sweating', 'nausea', 'mild_fever', 'malaise'], dtype='object')\n"
     ]
    }
   ],
   "source": [
    "import numpy as np\n",
    "from sklearn.feature_selection import SequentialFeatureSelector\n",
    "from sklearn.linear_model import LogisticRegression\n",
    "\n",
    "# Separate the features (X) and target variable (y)\n",
    "X = train_data.drop(\"prognosis\", axis=1)\n",
    "y = train_data[\"prognosis\"]\n",
    "\n",
    "# Create a SequentialFeatureSelector object\n",
    "selector = SequentialFeatureSelector(LogisticRegression(), n_features_to_select=5, direction=\"forward\")\n",
    "\n",
    "# Fit the selector on the data\n",
    "selector.fit(X, y)\n",
    "\n",
    "# Get the selected features\n",
    "selected_features = X.columns[selector.get_support()]\n",
    "\n",
    "# Print the selected features\n",
    "print(\"Selected Features:\")\n",
    "print(selected_features)\n"
   ]
  },
  {
   "cell_type": "markdown",
   "id": "a35a697f",
   "metadata": {},
   "source": [
    "Backward Elimination"
   ]
  },
  {
   "cell_type": "markdown",
   "id": "ab7a9218",
   "metadata": {},
   "source": [
    "In the code below RFE class in scikit-learn implements the backward elimination feature selection method."
   ]
  },
  {
   "cell_type": "code",
   "execution_count": 7,
   "id": "222b9700",
   "metadata": {},
   "outputs": [
    {
     "name": "stdout",
     "output_type": "stream",
     "text": [
      "Selected Features:\n",
      "Index(['itching', 'skin_rash', 'chills', 'joint_pain', 'vomiting', 'fatigue',\n",
      "       'high_fever', 'headache', 'nausea', 'loss_of_appetite',\n",
      "       'abdominal_pain', 'diarrhoea', 'chest_pain', 'loss_of_balance',\n",
      "       'irritability'],\n",
      "      dtype='object')\n"
     ]
    }
   ],
   "source": [
    "import numpy as np\n",
    "from sklearn.linear_model import LogisticRegression\n",
    "from sklearn.feature_selection import RFE\n",
    "\n",
    "\n",
    "\n",
    "# Separate the features (X) and target variable (y)\n",
    "X = train_data.drop(\"prognosis\", axis=1)\n",
    "y = train_data[\"prognosis\"]\n",
    "\n",
    "# Create a LogisticRegression object\n",
    "model = LogisticRegression()\n",
    "\n",
    "# Create a RFE object\n",
    "selector = RFE(model, n_features_to_select=15)\n",
    "\n",
    "# Fit the selector on the data\n",
    "selector.fit(X, y)\n",
    "\n",
    "# Get the selected features\n",
    "selected_features = X.columns[selector.support_]\n",
    "\n",
    "# Print the selected features\n",
    "print(\"Selected Features:\")\n",
    "print(selected_features)\n"
   ]
  },
  {
   "cell_type": "markdown",
   "id": "bfa189ac",
   "metadata": {},
   "source": [
    "# Embeded Method "
   ]
  },
  {
   "cell_type": "markdown",
   "id": "19a19bb1",
   "metadata": {},
   "source": [
    "Decision Tree based method for feature selection.\n",
    "First threshold value was 0.25, which give a null list of features. As, the threshold was too high, i decreased it to 0.01\n",
    "Then i got the following features:"
   ]
  },
  {
   "cell_type": "code",
   "execution_count": 9,
   "id": "f9ba77f3",
   "metadata": {},
   "outputs": [
    {
     "name": "stdout",
     "output_type": "stream",
     "text": [
      "Selected Features:\n",
      "Index(['chills', 'stomach_pain', 'spotting_ urination', 'weight_loss',\n",
      "       'high_fever', 'dark_urine', 'pain_behind_the_eyes', 'constipation',\n",
      "       'diarrhoea', 'mild_fever', 'yellowing_of_eyes', 'malaise', 'runny_nose',\n",
      "       'chest_pain', 'dizziness', 'swollen_extremeties', 'slurred_speech',\n",
      "       'hip_joint_pain', 'movement_stiffness', 'unsteadiness',\n",
      "       'continuous_feel_of_urine', 'passage_of_gases', 'muscle_pain',\n",
      "       'altered_sensorium', 'abnormal_menstruation', 'dischromic _patches',\n",
      "       'polyuria', 'family_history', 'mucoid_sputum', 'rusty_sputum',\n",
      "       'lack_of_concentration', 'visual_disturbances',\n",
      "       'receiving_blood_transfusion', 'stomach_bleeding',\n",
      "       'history_of_alcohol_consumption', 'blood_in_sputum',\n",
      "       'prominent_veins_on_calf', 'scurring', 'inflammatory_nails', 'blister'],\n",
      "      dtype='object')\n"
     ]
    }
   ],
   "source": [
    "import numpy as np\n",
    "from sklearn.tree import DecisionTreeClassifier\n",
    "from sklearn.feature_selection import SelectFromModel\n",
    "\n",
    "# Separate the features (X) and target variable (y)\n",
    "X = train_data.drop(\"prognosis\", axis=1)\n",
    "y = train_data[\"prognosis\"]\n",
    "\n",
    "# Create a decision tree classifier\n",
    "model = DecisionTreeClassifier()\n",
    "\n",
    "# Create a SelectFromModel object\n",
    "selector = SelectFromModel(model, threshold=0.01)\n",
    "\n",
    "# Fit the selector on the data\n",
    "selector.fit(X, y)\n",
    "\n",
    "# Get the selected features\n",
    "selected_features = X.columns[selector.get_support()]\n",
    "\n",
    "# Print the selected features\n",
    "print(\"Selected Features:\")\n",
    "print(selected_features)"
   ]
  },
  {
   "cell_type": "code",
   "execution_count": null,
   "id": "5bd31e7a",
   "metadata": {},
   "outputs": [],
   "source": []
  }
 ],
 "metadata": {
  "kernelspec": {
   "display_name": "Python 3 (ipykernel)",
   "language": "python",
   "name": "python3"
  },
  "language_info": {
   "codemirror_mode": {
    "name": "ipython",
    "version": 3
   },
   "file_extension": ".py",
   "mimetype": "text/x-python",
   "name": "python",
   "nbconvert_exporter": "python",
   "pygments_lexer": "ipython3",
   "version": "3.10.9"
  }
 },
 "nbformat": 4,
 "nbformat_minor": 5
}
